{
 "cells": [
  {
   "cell_type": "markdown",
   "metadata": {},
   "source": [
    "## Text Data Analysis"
   ]
  },
  {
   "cell_type": "markdown",
   "metadata": {},
   "source": [
    "My first task concerns the text file `midsummer.txt` which contains the text of William Shakespeare's play *A Midsummer Night's Dream*. The play contains 5 acts, each with 2 scenes, and the task is to investigate them, and in particular to decide how positive or negative each scene is.\n",
    "\n",
    "To that end, there are two more data files: `positive-words.txt` and `negative-words.txt`, which contain lists of positive and negative words respectively. These words come from the paper *Minqing Hu and Bing Liu. \"Mining and summarizing customer reviews.\" Proceedings of the ACM SIGKDD International Conference on Knowledge Discovery & Data Mining, Seattle, Washington, USA, Aug 22-25, 2004*. \n",
    "\n",
    "So whilst the words are not ideal for our purpose (since they are mainly to do with product review sentiments), they still represent an interesting way to examine our scenes.\n",
    "\n"
   ]
  },
  {
   "cell_type": "markdown",
   "metadata": {},
   "source": [
    "- First I will read in all three of the data files. Then I will need to split the play in 'midsummer.txt' up so that each scene can be considered individually."
   ]
  },
  {
   "cell_type": "code",
   "execution_count": 122,
   "metadata": {},
   "outputs": [],
   "source": [
    "# Import necesarry libraries\n",
    "import re\n",
    "import numpy as np\n",
    "import matplotlib.pyplot as plt\n",
    "\n",
    "# Read-in text files containing the text and +/- words as string type\n",
    "with open('midsummer.txt','r') as file_1:\n",
    "    midsummer_text = file_1.read()\n",
    "with open('positive-words.txt','r') as file_2:\n",
    "    positive = file_2.read()\n",
    "with open('negative-words.txt','r', encoding='latin-1') as file_3:\n",
    "    negative = file_3.read()\n",
    "    \n",
    "# Split 'midsummer_text' to create list of scenes\n",
    "midsummer_scenes = re.split(r'SCENE\\s\\w*', midsummer_text)[1:]\n",
    "\n",
    "# Create string of positive words by cutting unnecessary information\n",
    "pos_start = re.search(r'a\\+', positive)\n",
    "pos_start.group(0)\n",
    "positive_words = positive[pos_start.start():]\n",
    "\n",
    "# Create string of negative words by cutting unnecessary information\n",
    "neg_start = re.search(r'2\\-faced', negative)\n",
    "neg_start.group(0)\n",
    "negative_words = negative[neg_start.start():]"
   ]
  },
  {
   "cell_type": "code",
   "execution_count": 123,
   "metadata": {},
   "outputs": [],
   "source": [
    "def sent_count(text, positive, negative):\n",
    "    ''' \n",
    "    Create function to count frequency of positive/negative words in a text.\n",
    "    \n",
    "    Keyword arguments:\n",
    "        text -- the text to be analyzed (list type)\n",
    "        positive -- positive words to matched (string type)\n",
    "        negative -- negative words to matched (string type)\n",
    "        \n",
    "    The function will analyse a text by scene/chapter and return a tuple of \n",
    "    lists. These lists will contain the count of positive and negative words\n",
    "    for each scene/chapter of the given text.\n",
    "    '''\n",
    "    # Intialize lists for word matches        \n",
    "    pos_list = []\n",
    "    neg_list = []\n",
    "    # Loop through each scene/chapter of the text\n",
    "    for scene in range(len(text)):\n",
    "        for word in text[scene].split():\n",
    "            # Append word count to 'pos_list' if word is in positive words\n",
    "            if word.lower() in positive.split():\n",
    "                pos_list.append(str(scene))\n",
    "                pos_counts = sorted([(x, pos_list.count(x)) for x in set(pos_list)])\n",
    "            # Append word count to 'neg_list' if word is in negative words\n",
    "            elif word.lower() in negative.split():\n",
    "                neg_list.append(str(scene))        \n",
    "                neg_counts = sorted([(x, neg_list.count(x)) for x in set(neg_list)])\n",
    "       \n",
    "    # Return tuple of lists containing respective word counts\n",
    "    return (pos_counts, neg_counts)\n",
    "\n",
    "# Seperate positive/negative counts to be seperately analyzed\n",
    "scene_positive_count = sent_count(midsummer_scenes, positive_words, negative_words)[0]\n",
    "scene_negative_count = sent_count(midsummer_scenes, positive_words, negative_words)[1]\n",
    "\n"
   ]
  },
  {
   "cell_type": "markdown",
   "metadata": {},
   "source": [
    "- I now need to invent a metric for how positive or negative a given scene is, based on how many of the words in it are in the positive/negative word lists. For instance, is a scene containing one positive and one negative word: overall positive, negative or neutral?\n",
    "- So I will try and develop a single measure based on the word occurrences that will describe the positivity/negativity of the scene. I will do this by first standardizing the data."
   ]
  },
  {
   "cell_type": "code",
   "execution_count": 124,
   "metadata": {},
   "outputs": [],
   "source": [
    "def sent_metric(positive_counts, negative_counts):\n",
    "    '''\n",
    "    Create function to generate customised metric for sentiment.\n",
    "    \n",
    "    Keyword arguments:\n",
    "        positive_counts -- List of positive word count per scene (list type)\n",
    "        negative_counts -- List of negative word count per scene (list type)\n",
    "    \n",
    "    Function takes two lists of positive/negative words per scene and creates\n",
    "    a metric of sentiment per scene. The arguments are standardized to have a \n",
    "    zero mean and unit variance. The levels of sentiment will be based on how\n",
    "    many standard deviations the standardized word count is from the zero mean.\n",
    "    The output will be a list of these standardardized counts.\n",
    "    '''\n",
    "    # Convert inputs to dictionaries to analyze the ir corresponding values\n",
    "    pos_dict = dict(positive_counts)\n",
    "    neg_dict = dict(negative_counts)\n",
    "    # Create data points by adding their positive/negative contributions\n",
    "    pos_vals = [x for x in pos_dict.values()]\n",
    "    neg_vals = [-x for x in neg_dict.values()]\n",
    "    data_points = np.add(pos_vals, neg_vals)\n",
    "    # Standardize the data points to have zero mean and unit variance\n",
    "    x_bar = np.mean(data_points)\n",
    "    x_sigma = np.std(data_points)\n",
    "    standard_data = [(x - x_bar) for x in data_points] / x_sigma\n",
    "    \n",
    "    # Output the list of standardized data\n",
    "    return list(standard_data)\n",
    "\n",
    "# Define the sentiment for each scene\n",
    "scene_sentiment_metric = sent_metric(scene_positive_count, scene_negative_count)"
   ]
  },
  {
   "cell_type": "markdown",
   "metadata": {},
   "source": [
    "- Next will visualise the play by scene.\n",
    "- Make a plot by using the sentiment metric on the y-axis with scene number on the x-axis."
   ]
  },
  {
   "cell_type": "code",
   "execution_count": 125,
   "metadata": {},
   "outputs": [
    {
     "data": {
      "image/png": "[encoded data removed]",
      "text/plain": [
       "<Figure size 1440x720 with 1 Axes>"
      ]
     },
     "metadata": {},
     "output_type": "display_data"
    },
    {
     "name": "stdout",
     "output_type": "stream",
     "text": [
      "Scene 1 is very positive!\n",
      "Scene 2 is slightly negative.\n",
      "Scene 3 is slightly negative.\n",
      "Scene 4 is neutral.\n",
      "Scene 5 is slightly positive.\n",
      "Scene 6 is very negative!\n",
      "Scene 7 is positive.\n",
      "Scene 8 is neutral.\n",
      "Scene 9 is neutral.\n",
      "Scene 10 is slightly negative.\n"
     ]
    }
   ],
   "source": [
    "def create_sent_plot(data, title=''):\n",
    "    ''' Function to plot sentiment corresponding to each scene.'''\n",
    "    plt.figure(figsize=(20, 10))\n",
    "    # Contain data within 2 sigma\n",
    "    plt.ylim((-2.0, 2.0))\n",
    "    # Create bar chart of the data\n",
    "    plt.bar([str(i) for i in range(1, 11)], height=data, color='black')\n",
    "    # Create sentiment visualiztion based on number sigma the counts from mean\n",
    "    plt.axhline(0, color='black', linewidth=0.8)\n",
    "    plt.axhspan(1.5, 2.0, facecolor='darkgreen', alpha=0.75)\n",
    "    plt.axhspan(1.0, 1.5, facecolor='green', alpha=0.5)\n",
    "    plt.axhspan(0.5, 1.0, facecolor='lightgreen', alpha=0.5)\n",
    "    plt.axhspan(0.0, 0.5, facecolor='azure', alpha=0.75)\n",
    "    plt.axhspan(-0.5, 0.0, facecolor='azure', alpha=0.75)\n",
    "    plt.axhspan(-1.0, -0.5, facecolor='lightblue', alpha=0.5)\n",
    "    plt.axhspan(-1.5, -1.0, facecolor='blue', alpha=0.5)\n",
    "    plt.axhspan(-2.0, -1.5, facecolor='darkblue', alpha=0.75)\n",
    "    plt.xlabel('Scene')\n",
    "    plt.ylabel('- / +')\n",
    "    # Title of given data\n",
    "    plt.title(title)\n",
    "    return plt.show()\n",
    "\n",
    "# Visualize the scene sentiment for the Midsummer text\n",
    "midsummer_sent_plot = create_sent_plot(scene_sentiment_metric, 'Midsummer Scene Sentiment')\n",
    "\n",
    "\n",
    "def sent_print(xx):\n",
    "    '''Function to print scene sentiment from a list of standardardized counts.'''\n",
    "    for i in xx:\n",
    "        if i >= 1.5:\n",
    "            print(\"Scene \" + str(xx.index(i)+1) + \" is very positive!\")\n",
    "        elif i >= 1.0 and i < 1.5:\n",
    "            print(\"Scene \" + str(xx.index(i)+1) + \" is positive.\")\n",
    "        elif i >= 0.5 and i < 1.0:\n",
    "            print(\"Scene \" + str(xx.index(i)+1) + \" is slightly positive.\")\n",
    "        elif i >= -0.5 and i < 0.5:\n",
    "            print(\"Scene \" + str(xx.index(i)+1) + \" is neutral.\")\n",
    "        elif i >= -1.0 and i < -0.5:\n",
    "            print(\"Scene \" + str(xx.index(i)+1) + \" is slightly negative.\")\n",
    "        elif i >= -1.5 and i < 1.0:\n",
    "            print(\"Scene \" + str(xx.index(i)+1) + \" is negative.\")\n",
    "        elif i < -1.5:\n",
    "            print(\"Scene \" + str(xx.index(i)+1) + \" is very negative!\")\n",
    "    \n",
    "# Print scene sentiment for the Midsummer text\n",
    "midsummer_sent_print = sent_print(scene_sentiment_metric)"
   ]
  },
  {
   "cell_type": "markdown",
   "metadata": {},
   "source": [
    "- Now I begin to analyse the speakers in the play.\n",
    "- When a character starts speaking, their name appears in capitals, on its own line. I will use regular expressions to find the lines with speakers and to count their frequency of appearnece in the play.\n"
   ]
  },
  {
   "cell_type": "code",
   "execution_count": 126,
   "metadata": {},
   "outputs": [
    {
     "name": "stdout",
     "output_type": "stream",
     "text": [
      "The speaker who speaks most frequently in the text: \n",
      "Lysander\n"
     ]
    }
   ],
   "source": [
    "# Cut parts of text that is unnecesary for analyszing speaker frequency\n",
    "speaker_start = re.search(r'SCENE\\:', midsummer_text)\n",
    "speaker_start = midsummer_text[speaker_start.start():]\n",
    "\n",
    "# Match speakers (All-cap, greater than 4 letters)\n",
    "pattern = re.compile(r'^[:A-Z:]{4,}$', re.M)\n",
    "speakers = pattern.findall(speaker_start)\n",
    "\n",
    "# Create dictionary of speaker frequency\n",
    "number_speakers = len(set(speakers))\n",
    "speaker_count_dict = {x:speakers.count(x) for x in set(speakers)}\n",
    "\n",
    "# Print speaker who speaks most frequently\n",
    "speaker_count_max = max(speaker_count_dict, key=speaker_count_dict.get)\n",
    "print(\"The speaker who speaks most frequently in the text: \\n\"\n",
    "      + str(speaker_count_max).title())\n"
   ]
  },
  {
   "cell_type": "markdown",
   "metadata": {},
   "source": [
    "In this notebook I peformed basic text analysis by creating a metric to determine the sentiment of each scene and using regular expressions to determine speaker frequency. The functions developed in this scene could be easily used to analyse other plays in the ```.txt``` format but could also be used for other formats with minimal adaptation. \n"
   ]
  }
 ],
 "metadata": {
  "kernelspec": {
   "display_name": "Python 3",
   "language": "python",
   "name": "python3"
  },
  "language_info": {
   "codemirror_mode": {
    "name": "ipython",
    "version": 3
   },
   "file_extension": ".py",
   "mimetype": "text/x-python",
   "name": "python",
   "nbconvert_exporter": "python",
   "pygments_lexer": "ipython3",
   "version": "3.6.6"
  }
 },
 "nbformat": 4,
 "nbformat_minor": 2
}
